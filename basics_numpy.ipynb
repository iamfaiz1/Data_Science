{
 "cells": [
  {
   "cell_type": "markdown",
   "id": "70e5feb5",
   "metadata": {},
   "source": [
    "create a numpy array using a list."
   ]
  },
  {
   "cell_type": "code",
   "execution_count": 2,
   "id": "056ea148",
   "metadata": {},
   "outputs": [
    {
     "name": "stdout",
     "output_type": "stream",
     "text": [
      "[1 2 3 4 5]\n"
     ]
    }
   ],
   "source": [
    "import numpy as np\n",
    "\n",
    "a= np.array([1,2,3,4,5])\n",
    "print(a)"
   ]
  },
  {
   "cell_type": "markdown",
   "id": "ddec2e85",
   "metadata": {},
   "source": [
    "create a 2d array uisng numpy"
   ]
  },
  {
   "cell_type": "code",
   "execution_count": 4,
   "id": "711b06fe",
   "metadata": {},
   "outputs": [
    {
     "name": "stdout",
     "output_type": "stream",
     "text": [
      "[[ 1  2  3  4  5]\n",
      " [23 45  6  0  5]]\n"
     ]
    }
   ],
   "source": [
    "import numpy as np\n",
    "\n",
    "a= np.array([[1,2,3,4,5],[23,45,6,0, 5]])\n",
    "# dimentions should be same\n",
    "print(a)\n"
   ]
  },
  {
   "cell_type": "markdown",
   "id": "c7e79258",
   "metadata": {},
   "source": [
    "Attributes of an array"
   ]
  },
  {
   "cell_type": "code",
   "execution_count": 2,
   "id": "7a34fbe9",
   "metadata": {},
   "outputs": [
    {
     "name": "stdout",
     "output_type": "stream",
     "text": [
      "[[ 1  2  3  4  5]\n",
      " [23 45  6  0  5]]\n",
      "2\n",
      "(2, 5)\n",
      "10\n",
      "int64\n"
     ]
    }
   ],
   "source": [
    "import numpy as np\n",
    "\n",
    "a= np.array([[1,2,3,4,5],[23,45,6,0, 5]])\n",
    "# dimentions should be same\n",
    "print(a)\n",
    "print(a.ndim)  # no of dimensions\n",
    "print(a.shape) # shape of array (2,5) tuple type\n",
    "print(a.size)  # total no of elements\n",
    "print(a.dtype) # data type of array elements - int64"
   ]
  },
  {
   "cell_type": "markdown",
   "id": "3c5d8ce5",
   "metadata": {},
   "source": [
    "Broadcasting operation- pass one element operate it with all elements of an array (no loop requiredd-fasterr)"
   ]
  },
  {
   "cell_type": "markdown",
   "id": "9d86d169",
   "metadata": {},
   "source": [
    "Create two vectors : x and y and perform addion operation on these vectors"
   ]
  },
  {
   "cell_type": "code",
   "execution_count": 4,
   "id": "3c5ebb04",
   "metadata": {},
   "outputs": [
    {
     "data": {
      "text/plain": [
       "array([ 2,  4,  6,  8, 10])"
      ]
     },
     "execution_count": 4,
     "metadata": {},
     "output_type": "execute_result"
    }
   ],
   "source": [
    "import numpy as np\n",
    "\n",
    "x = np.array([1,2,3,4,5])\n",
    "y = np.array([1,2,3,4,5])\n",
    "c = x + y\n",
    "c\n"
   ]
  },
  {
   "cell_type": "markdown",
   "id": "3c2f31ff",
   "metadata": {},
   "source": [
    "ZEROSSS, ONESS, EYE: (identity matrix)"
   ]
  },
  {
   "cell_type": "code",
   "execution_count": 9,
   "id": "89c26a89",
   "metadata": {},
   "outputs": [
    {
     "name": "stdout",
     "output_type": "stream",
     "text": [
      "[[0. 0. 0. 0. 0. 0. 0.]\n",
      " [0. 0. 0. 0. 0. 0. 0.]\n",
      " [0. 0. 0. 0. 0. 0. 0.]\n",
      " [0. 0. 0. 0. 0. 0. 0.]]\n",
      "[[1. 1. 1. 1. 1. 1. 1.]\n",
      " [1. 1. 1. 1. 1. 1. 1.]\n",
      " [1. 1. 1. 1. 1. 1. 1.]\n",
      " [1. 1. 1. 1. 1. 1. 1.]]\n",
      "[[1. 0. 0.]\n",
      " [0. 1. 0.]\n",
      " [0. 0. 1.]]\n",
      "[[False False False False False False False]\n",
      " [False False False False False False False]\n",
      " [False False False False False False False]\n",
      " [False False False False False False False]]\n",
      "[[False  True  True]\n",
      " [ True False  True]\n",
      " [ True  True False]]\n"
     ]
    }
   ],
   "source": [
    "import numpy as np\n",
    "\n",
    "z = np.zeros((4,7))\n",
    "o = np.ones((4,7))\n",
    "e = np.eye((3)) #created identity matrix\n",
    "print(z)\n",
    "print(o)\n",
    "print(e)\n",
    "\n",
    "# coool feature lol\n",
    "m = z>0\n",
    "print(m)\n",
    "\n",
    "print(np.logical_not(e))"
   ]
  }
 ],
 "metadata": {
  "kernelspec": {
   "display_name": ".venv",
   "language": "python",
   "name": "python3"
  },
  "language_info": {
   "codemirror_mode": {
    "name": "ipython",
    "version": 3
   },
   "file_extension": ".py",
   "mimetype": "text/x-python",
   "name": "python",
   "nbconvert_exporter": "python",
   "pygments_lexer": "ipython3",
   "version": "3.13.5"
  }
 },
 "nbformat": 4,
 "nbformat_minor": 5
}
