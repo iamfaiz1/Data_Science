{
 "cells": [
  {
   "cell_type": "markdown",
   "id": "97c5182c",
   "metadata": {},
   "source": [
    "Pandas table:\n",
    "\n",
    "Series (1d),    \n",
    "DataFrames (2d),    \n",
    "Panel (3d),     \n",
    "Panel4D (4d),   "
   ]
  },
  {
   "cell_type": "markdown",
   "id": "adb423e0",
   "metadata": {},
   "source": [
    "create a series using a list in pandas"
   ]
  },
  {
   "cell_type": "code",
   "execution_count": 4,
   "id": "91f1827c",
   "metadata": {},
   "outputs": [
    {
     "data": {
      "text/plain": [
       "0    10\n",
       "1    20\n",
       "2    30\n",
       "3    40\n",
       "4    50\n",
       "dtype: int64"
      ]
     },
     "execution_count": 4,
     "metadata": {},
     "output_type": "execute_result"
    }
   ],
   "source": [
    "import pandas as pd\n",
    "\n",
    "s1 = pd.Series([10, 20, 30, 40, 50])\n",
    "s1"
   ]
  },
  {
   "cell_type": "markdown",
   "id": "1753f88e",
   "metadata": {},
   "source": [
    "to use differnt indexes"
   ]
  },
  {
   "cell_type": "code",
   "execution_count": 7,
   "id": "1a35c54a",
   "metadata": {},
   "outputs": [
    {
     "data": {
      "text/plain": [
       "a    10\n",
       "b    20\n",
       "c    30\n",
       "d    40\n",
       "e    50\n",
       "dtype: int64"
      ]
     },
     "execution_count": 7,
     "metadata": {},
     "output_type": "execute_result"
    }
   ],
   "source": [
    "import pandas as pd\n",
    "\n",
    "s1 = pd.Series([10, 20, 30, 40, 50], index=['a', 'b', 'c', 'd', 'e'])\n",
    "s1"
   ]
  },
  {
   "cell_type": "code",
   "execution_count": 8,
   "id": "649799f2",
   "metadata": {},
   "outputs": [
    {
     "data": {
      "text/plain": [
       "a    10\n",
       "b    20\n",
       "c    30\n",
       "d    40\n",
       "e    50\n",
       "dtype: int64"
      ]
     },
     "execution_count": 8,
     "metadata": {},
     "output_type": "execute_result"
    }
   ],
   "source": [
    "# using dictionary\n",
    "import pandas as pd\n",
    "\n",
    "di = {\n",
    "    \"a\": 10,\n",
    "    \"b\": 20,\n",
    "    \"c\": 30,\n",
    "    \"d\": 40,\n",
    "    \"e\": 50\n",
    "}\n",
    "s1 = pd.Series(di)\n",
    "s1"
   ]
  },
  {
   "cell_type": "markdown",
   "id": "51b814a0",
   "metadata": {},
   "source": [
    "create a series using a SCALER"
   ]
  },
  {
   "cell_type": "code",
   "execution_count": 12,
   "id": "22f1bdd6",
   "metadata": {},
   "outputs": [
    {
     "data": {
      "text/plain": [
       "a    5\n",
       "b    5\n",
       "e    5\n",
       "d    5\n",
       "e    5\n",
       "dtype: int64"
      ]
     },
     "execution_count": 12,
     "metadata": {},
     "output_type": "execute_result"
    }
   ],
   "source": [
    "import pandas as pd\n",
    "\n",
    "s1 =pd.Series(5, index=['a', 'b', 'e', 'd', 'e'])\n",
    "s1\n"
   ]
  },
  {
   "cell_type": "markdown",
   "id": "32e0f67c",
   "metadata": {},
   "source": [
    "Vector operaations on seriess"
   ]
  },
  {
   "cell_type": "code",
   "execution_count": null,
   "id": "293d329e",
   "metadata": {},
   "outputs": [
    {
     "name": "stdout",
     "output_type": "stream",
     "text": [
      "a    3.0\n",
      "b    3.0\n",
      "c    3.0\n",
      "d    3.0\n",
      "e    3.0\n",
      "0    3.0\n",
      "1    3.0\n",
      "2    3.0\n",
      "3    3.0\n",
      "4    3.0\n",
      "dtype: float64\n",
      "a   NaN\n",
      "b   NaN\n",
      "c   NaN\n",
      "d   NaN\n",
      "e   NaN\n",
      "0   NaN\n",
      "1   NaN\n",
      "2   NaN\n",
      "3   NaN\n",
      "4   NaN\n",
      "dtype: float64\n"
     ]
    }
   ],
   "source": [
    "import pandas as pd\n",
    "\n",
    "di = {\n",
    "    \"a\": 10,\n",
    "    \"b\": 20,\n",
    "    \"c\": 30,\n",
    "    \"d\": 40,\n",
    "    \"e\": 50\n",
    "}\n",
    "s1 = pd.Series(di)\n",
    "s2 = pd.Series([10, 20, 30, 40, 50], index=['a', 'b', 'c', 'd', 'e'])\n",
    "\n",
    "s3 = pd.Series([1, 2, 3, 4, 5])\n",
    "s4 = pd.Series(5, index=['a', 'b', 'e' ])\n",
    "\n",
    "s5 = s1 + s2\n",
    "s6 = s1 + s3\n",
    "s7 = s2 + s4\n",
    "# print(s5)\n",
    "# print(s6)\n",
    "# print(s7.dropna())\n",
    "print(s6.fillna(3))  #both fillna and dropna returns a copy of edited Series\n",
    "print(s6)\n",
    "\n"
   ]
  },
  {
   "cell_type": "markdown",
   "id": "e74e2aee",
   "metadata": {},
   "source": [
    "create a dataframe for storing student details : firstname lastname age and city\n",
    "keep atleast 5 entries"
   ]
  },
  {
   "cell_type": "code",
   "execution_count": 44,
   "id": "ad12eb77",
   "metadata": {},
   "outputs": [
    {
     "name": "stdout",
     "output_type": "stream",
     "text": [
      "  first_name last_name  age       city\n",
      "0        ram  tripathi   19   varanasi\n",
      "1       aman     kumar   20      delhi\n",
      "2     nigaar   khatoon   23     mumbai\n",
      "3      safee     singh   24  bangalore\n",
      "4     faizan     kumar   25  hyderabad\n",
      "\n",
      "0    19\n",
      "1    20\n",
      "2    23\n",
      "3    24\n",
      "4    25\n",
      "Name: age, dtype: int64\n",
      "\n",
      "  first_name last_name       city\n",
      "0        ram  tripathi   varanasi\n",
      "1       aman     kumar      delhi\n",
      "2     nigaar   khatoon     mumbai\n",
      "3      safee     singh  bangalore\n",
      "4     faizan     kumar  hyderabad\n"
     ]
    }
   ],
   "source": [
    "import pandas as pd\n",
    "\n",
    "di = {\n",
    "    \"first_name\": [\"ram\", \"aman\", \"nigaar\", \"safee\", \"faizan\"],\n",
    "    \"last_name\": [\"tripathi\", \"kumar\", \"khatoon\", \"singh\", \"kumar\"],\n",
    "    \"age\": [19, 20, 23, 24, 25],\n",
    "    \"city\": [\"varanasi\", \"delhi\", \"mumbai\", \"bangalore\", \"hyderabad\"]\n",
    "}\n",
    "\n",
    "df = pd.DataFrame(di)\n",
    "print(df)\n",
    "print()\n",
    "# display age for all the students\n",
    "print(df['age'])\n",
    "print()\n",
    "\n",
    "# display the first and last name of all students\n",
    "print(df[['first_name', 'last_name', 'city']])"
   ]
  },
  {
   "cell_type": "code",
   "execution_count": 34,
   "id": "b8d4edce",
   "metadata": {},
   "outputs": [
    {
     "data": {
      "text/html": [
       "<div>\n",
       "<style scoped>\n",
       "    .dataframe tbody tr th:only-of-type {\n",
       "        vertical-align: middle;\n",
       "    }\n",
       "\n",
       "    .dataframe tbody tr th {\n",
       "        vertical-align: top;\n",
       "    }\n",
       "\n",
       "    .dataframe thead th {\n",
       "        text-align: right;\n",
       "    }\n",
       "</style>\n",
       "<table border=\"1\" class=\"dataframe\">\n",
       "  <thead>\n",
       "    <tr style=\"text-align: right;\">\n",
       "      <th></th>\n",
       "      <th>first_name</th>\n",
       "      <th>last_name</th>\n",
       "      <th>age</th>\n",
       "      <th>city</th>\n",
       "    </tr>\n",
       "  </thead>\n",
       "  <tbody>\n",
       "    <tr>\n",
       "      <th>1</th>\n",
       "      <td>aman</td>\n",
       "      <td>kumar</td>\n",
       "      <td>20</td>\n",
       "      <td>delhi</td>\n",
       "    </tr>\n",
       "  </tbody>\n",
       "</table>\n",
       "</div>"
      ],
      "text/plain": [
       "  first_name last_name  age   city\n",
       "1       aman     kumar   20  delhi"
      ]
     },
     "execution_count": 34,
     "metadata": {},
     "output_type": "execute_result"
    }
   ],
   "source": [
    "# find the details of student who lives in kanpur\n",
    "df['city'] == 'kanpur'  # returns a boolean series\n",
    "\n",
    "df[df['city'] == 'delhi'] \n",
    " # returns a dataframe\n"
   ]
  },
  {
   "cell_type": "code",
   "execution_count": null,
   "id": "b1fb3492",
   "metadata": {},
   "outputs": [
    {
     "data": {
      "text/plain": [
       "1    aman\n",
       "Name: first_name, dtype: object"
      ]
     },
     "execution_count": 35,
     "metadata": {},
     "output_type": "execute_result"
    }
   ],
   "source": [
    "# find the first name of students who live in delhi\n",
    "df[df['city'] == 'delhi']['first_name']"
   ]
  },
  {
   "cell_type": "code",
   "execution_count": 41,
   "id": "4bea1fdb",
   "metadata": {},
   "outputs": [
    {
     "data": {
      "text/html": [
       "<div>\n",
       "<style scoped>\n",
       "    .dataframe tbody tr th:only-of-type {\n",
       "        vertical-align: middle;\n",
       "    }\n",
       "\n",
       "    .dataframe tbody tr th {\n",
       "        vertical-align: top;\n",
       "    }\n",
       "\n",
       "    .dataframe thead th {\n",
       "        text-align: right;\n",
       "    }\n",
       "</style>\n",
       "<table border=\"1\" class=\"dataframe\">\n",
       "  <thead>\n",
       "    <tr style=\"text-align: right;\">\n",
       "      <th></th>\n",
       "      <th>first_name</th>\n",
       "      <th>city</th>\n",
       "    </tr>\n",
       "  </thead>\n",
       "  <tbody>\n",
       "    <tr>\n",
       "      <th>2</th>\n",
       "      <td>nigaar</td>\n",
       "      <td>mumbai</td>\n",
       "    </tr>\n",
       "    <tr>\n",
       "      <th>3</th>\n",
       "      <td>safee</td>\n",
       "      <td>bangalore</td>\n",
       "    </tr>\n",
       "    <tr>\n",
       "      <th>4</th>\n",
       "      <td>faizan</td>\n",
       "      <td>hyderabad</td>\n",
       "    </tr>\n",
       "  </tbody>\n",
       "</table>\n",
       "</div>"
      ],
      "text/plain": [
       "  first_name       city\n",
       "2     nigaar     mumbai\n",
       "3      safee  bangalore\n",
       "4     faizan  hyderabad"
      ]
     },
     "execution_count": 41,
     "metadata": {},
     "output_type": "execute_result"
    }
   ],
   "source": [
    "# display first name and city of student where age iss greater than 20\n",
    "df[df['age']>20][['first_name', 'city']]\n"
   ]
  },
  {
   "cell_type": "markdown",
   "id": "8a04f1aa",
   "metadata": {},
   "source": [
    "# loc iloc\n",
    "loc : asks for column name      \n",
    "iloc : asks for index for colmn     \n",
    "i- is refering to index here    \n",
    "retriving using indexes of column instead of coumn name "
   ]
  },
  {
   "cell_type": "code",
   "execution_count": 47,
   "id": "916e3471",
   "metadata": {},
   "outputs": [
    {
     "name": "stdout",
     "output_type": "stream",
     "text": [
      "1    20\n",
      "Name: age, dtype: int64\n",
      "\n",
      "1    20\n",
      "Name: age, dtype: int64\n"
     ]
    }
   ],
   "source": [
    "# find age of student who live in delhi\n",
    "l1 = df[df['city'] == 'delhi'].loc[:, 'age']\n",
    "l2 = df[df['city'] == 'delhi'].iloc[:, 2]\n",
    "\n",
    "print(l1)\n",
    "print()\n",
    "print(l2)\n",
    "\n"
   ]
  },
  {
   "cell_type": "code",
   "execution_count": 49,
   "id": "da38714a",
   "metadata": {},
   "outputs": [
    {
     "data": {
      "text/html": [
       "<div>\n",
       "<style scoped>\n",
       "    .dataframe tbody tr th:only-of-type {\n",
       "        vertical-align: middle;\n",
       "    }\n",
       "\n",
       "    .dataframe tbody tr th {\n",
       "        vertical-align: top;\n",
       "    }\n",
       "\n",
       "    .dataframe thead th {\n",
       "        text-align: right;\n",
       "    }\n",
       "</style>\n",
       "<table border=\"1\" class=\"dataframe\">\n",
       "  <thead>\n",
       "    <tr style=\"text-align: right;\">\n",
       "      <th></th>\n",
       "      <th>first_name</th>\n",
       "      <th>last_name</th>\n",
       "    </tr>\n",
       "  </thead>\n",
       "  <tbody>\n",
       "    <tr>\n",
       "      <th>0</th>\n",
       "      <td>manoj</td>\n",
       "      <td>tripathi</td>\n",
       "    </tr>\n",
       "    <tr>\n",
       "      <th>1</th>\n",
       "      <td>kusum</td>\n",
       "      <td>kumar</td>\n",
       "    </tr>\n",
       "    <tr>\n",
       "      <th>2</th>\n",
       "      <td>nigaar</td>\n",
       "      <td>mishra</td>\n",
       "    </tr>\n",
       "    <tr>\n",
       "      <th>3</th>\n",
       "      <td>safee</td>\n",
       "      <td>singh</td>\n",
       "    </tr>\n",
       "  </tbody>\n",
       "</table>\n",
       "</div>"
      ],
      "text/plain": [
       "  first_name last_name\n",
       "0      manoj  tripathi\n",
       "1      kusum     kumar\n",
       "2     nigaar    mishra\n",
       "3      safee     singh"
      ]
     },
     "execution_count": 49,
     "metadata": {},
     "output_type": "execute_result"
    }
   ],
   "source": [
    "# create a dataFrame using series\n",
    "# create two columns as series: first name and lastname\n",
    "\n",
    "s1 = pd.Series([\"manoj\", \"kusum\", \"nigaar\", \"safee\", ])\n",
    "s2 = pd.Series([\"tripathi\", \"kumar\", \"mishra\", \"singh\", ])\n",
    "\n",
    "df2 = pd.DataFrame({\n",
    "    # assinging as :- \"column_name\" : series_name\n",
    "    \"first_name\": s1,\n",
    "    \"last_name\": s2\n",
    "})\n",
    "df2\n"
   ]
  }
 ],
 "metadata": {
  "kernelspec": {
   "display_name": ".venv",
   "language": "python",
   "name": "python3"
  },
  "language_info": {
   "codemirror_mode": {
    "name": "ipython",
    "version": 3
   },
   "file_extension": ".py",
   "mimetype": "text/x-python",
   "name": "python",
   "nbconvert_exporter": "python",
   "pygments_lexer": "ipython3",
   "version": "3.13.5"
  }
 },
 "nbformat": 4,
 "nbformat_minor": 5
}
